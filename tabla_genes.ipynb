{
 "cells": [
  {
   "cell_type": "markdown",
   "metadata": {},
   "source": [
    "# Obtención de tablas de abundancia de genes\n",
    "\n",
    "Archivos iniciales:\n",
    "\n",
    "*acacia.faa* contiene secuencias de aminoácidos renombradas.\n",
    "\n",
    "*acacia.fna* contiene secuencias de nucleótidos de los marcos de lectura renombradas.\n",
    "\n",
    "*acacia-rn.fasta* contiene secuencias de lecturas de calidad tanto pareadas como sin parear.\n",
    "\n",
    "### Abundancias\n",
    "Generar librería de los marcos de lectura para mapear con bowtie2."
   ]
  },
  {
   "cell_type": "code",
   "execution_count": null,
   "metadata": {},
   "outputs": [],
   "source": [
    "bowtie2-build acacia.fna acacia"
   ]
  },
  {
   "cell_type": "markdown",
   "metadata": {},
   "source": [
    "Alinear lecturas a marcos de lectura para asignar abundancias."
   ]
  },
  {
   "cell_type": "code",
   "execution_count": null,
   "metadata": {},
   "outputs": [],
   "source": [
    "bowtie2 -f -x acacia -U acacia-rn.fasta -S acacia.sam --quiet -p 20 --very-sensitive"
   ]
  },
  {
   "cell_type": "markdown",
   "metadata": {},
   "source": [
    "Obtener únicamente alineamientos de calidad y recuperar las secuencias de referencia mapeadas con su frecuencia."
   ]
  },
  {
   "cell_type": "code",
   "execution_count": null,
   "metadata": {},
   "outputs": [],
   "source": [
    "grep -v '^@' acacia.sam | awk '{if($5 == \"42\") print $3}' | sort | uniq -c > acacia.hits"
   ]
  },
  {
   "cell_type": "markdown",
   "metadata": {},
   "source": [
    "### Anotar\n",
    "Correr cd-hit para eliminar redundancia y agilizar la búsqueda de homólogos."
   ]
  },
  {
   "cell_type": "code",
   "execution_count": null,
   "metadata": {},
   "outputs": [],
   "source": [
    "cd-hit -i acacia.faa -o acacia90 -c 0.90 -n 5 -aL 0.7 -d 0 -M 20000 -T 20 > acacia90.cdhit-out"
   ]
  },
  {
   "cell_type": "markdown",
   "metadata": {},
   "source": [
    "*acacia90* contiene las secuencias representativas por cluster\n",
    "\n",
    "*acacia90.clstr* contiene la información de las secuencias agrupadas\n",
    "\n",
    "Convertir la salida de cd-hit a lista de clusters con sus respectivas secuencias"
   ]
  },
  {
   "cell_type": "code",
   "execution_count": null,
   "metadata": {},
   "outputs": [],
   "source": [
    "perl -pne 's/\\t//g;s/^.*,//g;s/\\.\\.\\..*$//g;s/\\n/\\t/g;s/\\>Cluster\\ /\\n/g;s/\\>//g; eof && do{chomp; print \"$_ \\n\"; exit}' acacia90.clstr > acacia90.otu"
   ]
  },
  {
   "cell_type": "markdown",
   "metadata": {},
   "source": [
    "Partir el archivo de secuencias para paralelizar la anotación"
   ]
  },
  {
   "cell_type": "code",
   "execution_count": null,
   "metadata": {},
   "outputs": [],
   "source": [
    "partefasta 10000 acacia90.faa"
   ]
  },
  {
   "cell_type": "markdown",
   "metadata": {},
   "source": [
    "Correr la anotación contra la base de datos m5nr en paralelo por cada archivo de 10,000 secuencias"
   ]
  },
  {
   "cell_type": "code",
   "execution_count": null,
   "metadata": {},
   "outputs": [],
   "source": [
    "diamond blastp -d m5nr -q acacia90.faa.1.fas -f 6 -e 1e-10 -k 10 -p 1 --quiet -o acacia90.faa.1.fas.bout"
   ]
  },
  {
   "cell_type": "markdown",
   "metadata": {},
   "source": [
    "Unir todas las salidas del archivo *acacia.faa*"
   ]
  },
  {
   "cell_type": "code",
   "execution_count": null,
   "metadata": {},
   "outputs": [],
   "source": [
    "cat acacia90.faa.*.bout > acacia-m5nr.bout"
   ]
  },
  {
   "cell_type": "markdown",
   "metadata": {},
   "source": [
    "Oneliner para ordenar la slida de blast por valor de bitscore, remover duplicados con el mismo valor de bitscore y guardar en el archivo *acacia_best_uniq*"
   ]
  },
  {
   "cell_type": "code",
   "execution_count": null,
   "metadata": {},
   "outputs": [],
   "source": [
    "cat acacia-m5nr.bout | perl -pe ' $name_col=0; $score_col=11; while(<>) { s/\\r?\\n//; @F=split /\\t/, $_; ($n, $s) = @F[$name_col, $score_col]; if (! exists($max{$n})) { push @names, $n }; if (! exists($max\n",
    "{$n}) || $s > $max{$n}) { $max{$n} = $s; $best{$n} = () }; if ($s == $max{$n}) { $best{$n} .= \"$_\\n\" }; } for $n (@names) { print $best{$n} } ' >best;  perl -e ' $column=0; $unique=0; while(<>) { s/\\r?\\n//; @F=s\n",
    "plit /\\t/, $_; if (! ($save{$F[$column]}++)) { print \"$_\\n\"; $unique++ } } ' best > acacia_best_uniq; rm best"
   ]
  },
  {
   "cell_type": "markdown",
   "metadata": {},
   "source": [
    "Simplificar la salida"
   ]
  },
  {
   "cell_type": "code",
   "execution_count": null,
   "metadata": {},
   "outputs": [],
   "source": [
    "awk '{print $1\"\\t\"$3\"\\t\"$11\"\\t\"$12\"\\t\"$2}' acacia_best_uniq > acacia_best.simple.tsv"
   ]
  },
  {
   "cell_type": "markdown",
   "metadata": {},
   "source": [
    "Generar una tabla que contenga cada identificador del m5nr y su abundancia según las lecturas mapeadas a los marcos de lectura, sumada por las secuencias en cada cluster. Se usa el script hitter.py y se obtiene el archivo *acacia.hout*"
   ]
  },
  {
   "cell_type": "code",
   "execution_count": null,
   "metadata": {},
   "outputs": [],
   "source": [
    "python3 hitter.py acacia_best.simple.tsv acacia.hits acacia90.otu acacia"
   ]
  },
  {
   "cell_type": "markdown",
   "metadata": {},
   "source": [
    "Se usó el mismo método para las muestras cca y ccac. Crear una lista con las muestras a juntar en una tabla"
   ]
  },
  {
   "cell_type": "code",
   "execution_count": null,
   "metadata": {},
   "outputs": [],
   "source": [
    "ls *.hout > lista"
   ]
  },
  {
   "cell_type": "markdown",
   "metadata": {},
   "source": [
    "Unir las muestras en una sola tabla con el script hitter_table.py se obtiene el archivo *nac.tsv*"
   ]
  },
  {
   "cell_type": "code",
   "execution_count": null,
   "metadata": {},
   "outputs": [],
   "source": [
    "python3 hitter_table.py lista nac"
   ]
  },
  {
   "cell_type": "markdown",
   "metadata": {},
   "source": [
    "### Agregar secuencias no anotadas agrupadas por identidad\n",
    "\n",
    "Obtener lista de secuencias anotadas"
   ]
  },
  {
   "cell_type": "code",
   "execution_count": null,
   "metadata": {},
   "outputs": [],
   "source": [
    "awk '{print $1}' acacia_best.simple.tsv > acacia_anotados.txt"
   ]
  },
  {
   "cell_type": "markdown",
   "metadata": {},
   "source": [
    "Obtener lista de todas las secuencias"
   ]
  },
  {
   "cell_type": "code",
   "execution_count": null,
   "metadata": {},
   "outputs": [],
   "source": [
    "grep '>' acacia.faa | sed 's/>//g' > acacia_todos.txt"
   ]
  },
  {
   "cell_type": "markdown",
   "metadata": {},
   "source": [
    "Recuperar los nombres de las secuencias no anotadas"
   ]
  },
  {
   "cell_type": "code",
   "execution_count": null,
   "metadata": {},
   "outputs": [],
   "source": [
    "cat acacia_anotados.txt acacia_todos.txt | sort | uniq -c | grep '1 ' | awk '{print $2}' > acacia_na.txt"
   ]
  },
  {
   "cell_type": "markdown",
   "metadata": {},
   "source": [
    "Extraer las secuencias no anotadas"
   ]
  },
  {
   "cell_type": "code",
   "execution_count": null,
   "metadata": {},
   "outputs": [],
   "source": [
    "seqtk subseq acacia.faa acacia_na.txt > acacia_na.faa"
   ]
  },
  {
   "cell_type": "markdown",
   "metadata": {},
   "source": [
    "Unir las secuencias no anotadas de todas las muestras"
   ]
  },
  {
   "cell_type": "code",
   "execution_count": null,
   "metadata": {},
   "outputs": [],
   "source": [
    "cat *_na.faa > todos_na.faa"
   ]
  },
  {
   "cell_type": "markdown",
   "metadata": {},
   "source": [
    "Correr cd-hit para agrupar secuencias por identidad y cobertura"
   ]
  },
  {
   "cell_type": "code",
   "execution_count": null,
   "metadata": {},
   "outputs": [],
   "source": [
    "cd-hit -i todos_na.faa -o todos70 -c 0.70 -n 4 -aL 0.7 -d 0 -M 3000 -T 2 > todos70.cdhit.out"
   ]
  },
  {
   "cell_type": "markdown",
   "metadata": {},
   "source": [
    "Convertir la salida a lista de clusters"
   ]
  },
  {
   "cell_type": "code",
   "execution_count": null,
   "metadata": {},
   "outputs": [],
   "source": [
    "perl -pne 's/\\t//g;s/^.*,//g;s/\\.\\.\\..*$//g;s/\\n/\\t/g;s/\\>Cluster\\ /\\n/g;s/\\>//g; eof && do{chomp; print \"$_ \\n\"; exit}' todos70.clstr > todos70.otu"
   ]
  },
  {
   "cell_type": "markdown",
   "metadata": {},
   "source": [
    "Obtener una lista de los archivos de mapeo de lecturas en marcos de lectura"
   ]
  },
  {
   "cell_type": "code",
   "execution_count": null,
   "metadata": {},
   "outputs": [],
   "source": [
    "ls *.hits > nac_list.txt"
   ]
  },
  {
   "cell_type": "markdown",
   "metadata": {},
   "source": [
    "Obtener la tabla de presencia de clusters con la frecuencia convertida en mapeo de lecturas con el script hitter_na.py se obtiene el archivo *nac_na.tsv*"
   ]
  },
  {
   "cell_type": "code",
   "execution_count": null,
   "metadata": {},
   "outputs": [],
   "source": [
    "python3 hitter_na.py nac_list.txt todos70.otu nac"
   ]
  }
 ],
 "metadata": {
  "kernelspec": {
   "display_name": "Python 3",
   "language": "python",
   "name": "python3"
  },
  "language_info": {
   "codemirror_mode": {
    "name": "ipython",
    "version": 3
   },
   "file_extension": ".py",
   "mimetype": "text/x-python",
   "name": "python",
   "nbconvert_exporter": "python",
   "pygments_lexer": "ipython3",
   "version": "3.5.6"
  }
 },
 "nbformat": 4,
 "nbformat_minor": 2
}
